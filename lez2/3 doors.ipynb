{
 "cells": [
  {
   "cell_type": "code",
   "execution_count": 80,
   "id": "dba2e9eb",
   "metadata": {},
   "outputs": [],
   "source": [
    "import numpy as np \n",
    "import random \n",
    "import time\n",
    "import pylab as plt"
   ]
  },
  {
   "cell_type": "markdown",
   "id": "9c76ed21",
   "metadata": {},
   "source": [
    "Questo programma è una simulazione del monty hall problem. Ci sono 3 giocatori e un conduttore in un programma TV. \n",
    "Il conduttore mostra ai giocatori 3 porte, dietro una di queste porte si cela una lamborghini, dietro le altre 2 ci sono delle capre. Il primo giocatore sceglie una porta e mantiene tale scelta fino alla fine. Il secondo giocatore sceglie una porta ma, dopo che il conduttore gli apre una porta dietro la quale c'è una capra, decide di cambiare idea. Il terzo giocatore entra nella stanza solo dopo che il conduttore ha aperto una porta con dietro la capra. \n",
    "la simulazione mostra le probabilità di vittoria di questi 3 giocatori. In seguito viene eseguita una simulazione analoga ma con 100 porte, per cui il conduttore ne apre 98 dopo che il giocatore ha effettuato la scelta. "
   ]
  },
  {
   "cell_type": "code",
   "execution_count": 2,
   "id": "4a4649c5",
   "metadata": {},
   "outputs": [],
   "source": [
    "#questa funzione restituisce il numero della porta che viene aperta dal terzo giocatore, \n",
    "#è una scelta random, escludendo solo la porta già aperta dal conduttore \n",
    "\n",
    "def funz(lamb, porte):\n",
    "    rand=random.randrange(1,porte+1)\n",
    "    if (rand!=lamb):\n",
    "        apert=rand\n",
    "    else:\n",
    "        while(rand==lamb):\n",
    "            rand=random.randrange(1,porte+1)\n",
    "        apert=rand          \n",
    "    return(apert)\n",
    "    "
   ]
  },
  {
   "cell_type": "code",
   "execution_count": 3,
   "id": "9cfef7a6",
   "metadata": {},
   "outputs": [],
   "source": [
    "#la funzione restituisce il numero della porta diversa da num1 e num2\n",
    "\n",
    "def change(num1,num2, porte):\n",
    "    it=0\n",
    "    while (it==0):\n",
    "        gen=random.randrange(1,porte+1)\n",
    "        if (gen!=num1):\n",
    "            if (gen!=num2):\n",
    "                it=1\n",
    "    return(gen)"
   ]
  },
  {
   "cell_type": "code",
   "execution_count": 4,
   "id": "e6a95757",
   "metadata": {},
   "outputs": [],
   "source": [
    "def elimina_elementi(vettore1, vettore2):\n",
    "    risultato = []\n",
    "    indice_vettore2 = 0\n",
    "    for elemento in vettore1:\n",
    "        if indice_vettore2 >= len(vettore2) or vettore2[indice_vettore2] == 0:\n",
    "            risultato.append(elemento)\n",
    "        else:\n",
    "            indice_vettore2 += 1\n",
    "    return risultato"
   ]
  },
  {
   "cell_type": "code",
   "execution_count": 5,
   "id": "5f2832cc",
   "metadata": {},
   "outputs": [],
   "source": [
    "def filtra_vettore(vettore1, vettore2):\n",
    "    vettore_filtrato = []\n",
    "    for i in range(len(vettore1)):\n",
    "        if vettore2[i] != 0:\n",
    "            vettore_filtrato.append(vettore1[i])\n",
    "    return vettore_filtrato\n"
   ]
  },
  {
   "cell_type": "code",
   "execution_count": 6,
   "id": "3d38a49d",
   "metadata": {},
   "outputs": [
    {
     "data": {
      "text/plain": [
       "[2, 3]"
      ]
     },
     "execution_count": 6,
     "metadata": {},
     "output_type": "execute_result"
    }
   ],
   "source": [
    "vettore1=[1, 2, 3, 4, 5, 6, 7]\n",
    "vettore2=[0, 1, 1, 0, 0, 0, 0]\n",
    "filtra_vettore(vettore1,vettore2)"
   ]
  },
  {
   "cell_type": "code",
   "execution_count": 7,
   "id": "d163d4d9",
   "metadata": {},
   "outputs": [],
   "source": [
    "# questa funzione chiude N-2 porte con dietro le capre\n",
    "def chiusura_porte (pos_lamb, pos_scelta_giocatore, N):\n",
    "    tot_porte=[]\n",
    "    remove=[]\n",
    "    \n",
    "    for i in range (0,N):\n",
    "        tot_porte.append(i+1)\n",
    "    for k in range (0,N):\n",
    "        if (tot_porte[k]==pos_lamb or tot_porte[k]==pos_scelta_giocatore):\n",
    "                remove.append(1)\n",
    "                   \n",
    "        else:\n",
    "            remove.append(0)\n",
    "   \n",
    "    t=0\n",
    "    j=0\n",
    "    while (t==0):\n",
    "        if (remove[j]==0):\n",
    "            remove[j]=1\n",
    "            t=1\n",
    "        j=j+1\n",
    "        \n",
    "    vett_fin=filtra_vettore(tot_porte, remove)\n",
    "    if (np.size(vett_fin)==1):\n",
    "        if(vett_fin[0]==1):\n",
    "            vett_fin.append(2)\n",
    "        \n",
    "        else:\n",
    "            vett_fin.append(1) \n",
    "    if (np.size(vett_fin)==2):\n",
    "            vett_fin.append(3)\n",
    "        \n",
    "    return vett_fin\n",
    "   \n",
    "            \n",
    "        \n",
    "        "
   ]
  },
  {
   "cell_type": "code",
   "execution_count": 8,
   "id": "75e03e64",
   "metadata": {},
   "outputs": [],
   "source": [
    "def change_n(num1,num2, arr):\n",
    "    for element in arr:\n",
    "        if (element!=num1):\n",
    "             if (element!=num2):\n",
    "                return(element)\n",
    "\n",
    "                \n",
    "        "
   ]
  },
  {
   "cell_type": "code",
   "execution_count": 9,
   "id": "12c011e6",
   "metadata": {},
   "outputs": [
    {
     "data": {
      "text/plain": [
       "[1, 2, 3]"
      ]
     },
     "execution_count": 9,
     "metadata": {},
     "output_type": "execute_result"
    }
   ],
   "source": [
    "chiusura_porte(1,1,5)"
   ]
  },
  {
   "cell_type": "code",
   "execution_count": 10,
   "id": "04b780d5",
   "metadata": {},
   "outputs": [
    {
     "data": {
      "text/plain": [
       "1"
      ]
     },
     "execution_count": 10,
     "metadata": {},
     "output_type": "execute_result"
    }
   ],
   "source": [
    "change_n(3,4,chiusura_porte(3,4,5))"
   ]
  },
  {
   "cell_type": "code",
   "execution_count": 56,
   "id": "4ebd1d18",
   "metadata": {},
   "outputs": [],
   "source": [
    "#simulazione dei 3 players con N porte\n",
    "def simulazione (N):\n",
    "    capra_cond=[]    #nuomero della porta con dietro la capra aperta dal conduttore\n",
    "    first_choice=[]  #numero della prima porta scelta\n",
    "    second_choice=[]  #posizione della porta aperta dopo aver cambiato scelta\n",
    "    lamborghini=[]    # numero della porta con dietro la lamborghini\n",
    "    giocatore3=[]\n",
    "    won_1=0\n",
    "    won_2=0\n",
    "    won_3=0\n",
    "    porte_finali=[]\n",
    "    for i in range(0, 100000):\n",
    "        \n",
    "        lamborghini.append(random.randrange(1,N+1))\n",
    "       # print('posizione lamb',lamborghini[i])\n",
    "        random.seed ( i )\n",
    "        first_choice.append(random.randrange(1,N+1))\n",
    "       # print('prima scelta',first_choice[i])\n",
    "        porte_finali.append(chiusura_porte(lamborghini[i], first_choice[i], N))\n",
    "       # print('porte finali:', porte_finali[i])\n",
    "        capra_cond.append(change_n(lamborghini[i], first_choice[i],porte_finali[i]))\n",
    "       # print('capra aperta dal cond',capra_cond[i])\n",
    "        second_choice.append(change_n(first_choice[i], capra_cond[i], porte_finali[i]))\n",
    "       # print('seconda scelta',second_choice[i])\n",
    "        if (first_choice[i]==lamborghini[i]):\n",
    "            won_1=won_1+1\n",
    "            #print('primo giocatore vince','\\n')\n",
    "        if (second_choice[i]==lamborghini[i]):\n",
    "            won_2=won_2+1\n",
    "           # print('secondo giocatore vince','\\n')\n",
    "    \n",
    "          #il primo giocatore mantiene la scelta \n",
    "    \n",
    "        \n",
    "    return (won_1/100000, won_2/100000)\n",
    "    #il terzo giocatore entra e fa la sua scelta indipendentemente\n",
    "    \n",
    "    \n",
    "    \n",
    "\n",
    "\n",
    "    \n",
    "    "
   ]
  },
  {
   "cell_type": "code",
   "execution_count": 69,
   "id": "b21b48d7",
   "metadata": {},
   "outputs": [
    {
     "data": {
      "text/plain": [
       "(0.33191, 0.66809)"
      ]
     },
     "execution_count": 69,
     "metadata": {},
     "output_type": "execute_result"
    }
   ],
   "source": [
    "simulazione(3)"
   ]
  },
  {
   "cell_type": "code",
   "execution_count": 97,
   "id": "4df9ce6b",
   "metadata": {},
   "outputs": [],
   "source": [
    "simulazioni=[]\n",
    "sim=[]\n",
    "i=3\n",
    "while (i<30):\n",
    "    simulazioni.append(simulazione(i)[1])\n",
    "    i=i+1"
   ]
  },
  {
   "cell_type": "code",
   "execution_count": 98,
   "id": "ba7027e1",
   "metadata": {},
   "outputs": [],
   "source": [
    "porte=[]\n",
    "for i in range (3, 30):\n",
    "    porte.append(i)"
   ]
  },
  {
   "cell_type": "code",
   "execution_count": 101,
   "id": "688c3034",
   "metadata": {},
   "outputs": [
    {
     "data": {
      "text/plain": [
       "[<matplotlib.lines.Line2D at 0x7fe7fc366700>]"
      ]
     },
     "execution_count": 101,
     "metadata": {},
     "output_type": "execute_result"
    },
    {
     "data": {
      "image/png": "[encoded data removed]",
      "text/plain": [
       "<Figure size 432x288 with 1 Axes>"
      ]
     },
     "metadata": {
      "needs_background": "light"
     },
     "output_type": "display_data"
    }
   ],
   "source": [
    "plt.xlim(0,30)\n",
    "#plt.ylim(0,1)\n",
    "plt.plot(porte,simulazioni)"
   ]
  },
  {
   "cell_type": "code",
   "execution_count": 18,
   "id": "4766f2cd",
   "metadata": {},
   "outputs": [],
   "source": [
    "#inizializzo le liste\n",
    "\n",
    "capra_cond=[]    #nuomero della porta con dietro la capra aperta dal conduttore\n",
    "first_choice=[]  #numero della prima porta scelta\n",
    "second_choice=[]  #posizione della porta aperta dopo aver cambiato scelta\n",
    "lamborghini=[]    # numero della porta con dietro la lamborghini\n",
    "giocatore3=[]\n",
    "\n",
    "\n",
    "for i in range(0, 100000):\n",
    "    \n",
    "    #dietro questa porta c'è la lamborgini, dietro le altre due ci sono le capre\n",
    "    lamborghini.append(random.randrange(1,4))\n",
    "    #print('lamborghini:', lamborghini[i], '\\n')\n",
    "   \n",
    "    #ora il primo giogatore sceglie una delle tre porte e mantiene la scelta fino alla fine\n",
    "    random.seed ( i )\n",
    "   \n",
    "    first_choice.append(random.randrange(1,4))\n",
    "    \n",
    "    \n",
    "    #il conduttore apre una delle due porte in cui c'è la capra \n",
    "    capra_cond.append(change(lamborghini[i], first_choice[i],3))\n",
    "    \n",
    "    \n",
    "    #a questo punto il secondo giocatore sceglie di cambiare porta\n",
    "    second_choice.append(change(first_choice[i], capra_cond[i], 3))\n",
    "    \n",
    "    #il primo giocatore mantiene la scelta \n",
    "    \n",
    "    \n",
    "    #il terzo giocatore entra e fa la sua scelta indipendentemente\n",
    "    giocatore3.append(funz(capra_cond[i],3))\n",
    "    \n"
   ]
  },
  {
   "cell_type": "code",
   "execution_count": 20,
   "id": "ee20d674",
   "metadata": {},
   "outputs": [
    {
     "name": "stdout",
     "output_type": "stream",
     "text": [
      "probabilità che cambiando scelta il giocarore vinca: 0.66432\n",
      "probabilità che non cambiando scelta il giocatore vinca: 0.33568\n",
      "probabilità che vinca il terzo giocatore: 0.49974\n"
     ]
    }
   ],
   "source": [
    "#inizializzo le vincite dei giocatori\n",
    "won_player_1=0\n",
    "won_player_2=0\n",
    "won_player_3=0\n",
    "\n",
    "for i in range(0,100000):\n",
    "    if(second_choice[i]==lamborghini[i]):\n",
    "            won_player_2=won_player_2+1\n",
    "print('probabilità che cambiando scelta il giocarore vinca:',won_player_2/100000)\n",
    "\n",
    "for i in range(0,100000):\n",
    "    if(first_choice[i]==lamborghini[i]):\n",
    "            won_player_1=won_player_1+1\n",
    "print('probabilità che non cambiando scelta il giocatore vinca:', won_player_1/100000)   \n",
    "\n",
    "for i in range(0,100000):\n",
    "    if(giocatore3[i]==lamborghini[i]):\n",
    "            won_player_3=won_player_3+1\n",
    "print('probabilità che vinca il terzo giocatore:', won_player_3/100000)   "
   ]
  },
  {
   "cell_type": "code",
   "execution_count": 50,
   "id": "61a6d7c3",
   "metadata": {},
   "outputs": [],
   "source": [
    "#ora faccio la stessa simulazione ma considerando 1000 perte \n",
    "\n",
    "porta_chiusa=[] #unica porta che il conduttore lascia chiusa dopo che il giocatore ha effettuato la scelta   \n",
    "first_choice=[]  #numero della prima porta scelta\n",
    "second_choice=[] #numero della seconda porta scelta\n",
    "porte_aperte=[]\n",
    "lamborghini=[]    # numero della porta con dietro la lamborghini\n",
    "\n",
    "\n",
    "\n",
    "for i in range(0, 1000):\n",
    "    \n",
    "    #dietro questa porta c'è la lamborgini, dietro le altre ci sono le capre\n",
    "    lamborghini.append(random.randrange(1,1001))\n",
    "   # print(lamborghini[i],'\\n')\n",
    "    random.seed ( i )\n",
    "    #il primo giocatore fa la sua scelta e non cambia idea\n",
    "    first_choice.append(random.randrange(1,1001))\n",
    "   # print(first_choice[i],'\\n')\n",
    "    \n",
    "    #il conduttore apre 998 porte con dietro le capre,\n",
    "    #rimangono chiuse solo quella con dietro la lamborghini e un'altra porta random\n",
    "    \n",
    "    if (lamborghini[i]==first_choice[i]):\n",
    "        porta_chiusa.append(change(lamborghini[i], first_choice[i],1000))\n",
    "    else:\n",
    "        porta_chiusa.append(first_choice[i])\n",
    "    temporaneo=[]\n",
    "    temporaneo[0]=porta_chiusa[i]# questa porta continene la prima scelta oppure una capra \n",
    "    temporaneo[1]=lamborghini[i] # questa porta contiene sempre la lamborghini\n",
    "    second_choice.append(change(first_choice[i], capra_cond[i], 3))\n",
    "    \n",
    "    #print(porta_chiusa[i],'\\n')\n",
    "    \n",
    "    #a questo punto il secondo giocatore decide di cambiare scelta\n",
    "    #second_choice.append(change(first_choice[i], porte_aperte[i], 3))\n",
    "       \n",
    "    \n",
    "    \n",
    "    \n",
    "    \n",
    "    #il terzo giocatore entra e fa la sua scelta indipendentemente\n",
    "   # giocatore3.append(funz(capra_cond[i]))\n",
    "    #print('giocatore 3 sceglie:', giocatore3[i], '\\n')\n",
    "\n"
   ]
  },
  {
   "cell_type": "code",
   "execution_count": 44,
   "id": "40fb3f10",
   "metadata": {},
   "outputs": [
    {
     "name": "stdout",
     "output_type": "stream",
     "text": [
      "probabilità che cambiando scelta il giocarore vinca: 0.00094\n",
      "probabilità che non cambiando scelta il giocatore vinca: 0.00119\n"
     ]
    }
   ],
   "source": [
    "#inizializzo le vincite dei giocatori\n",
    "won_player_1=0\n",
    "won_player_2=0\n",
    "won_player_3=0\n",
    "\n",
    "for i in range(0,100000):\n",
    "    if(first_choice[i]==lamborghini[i]):\n",
    "            won_player_1=won_player_1+1\n",
    "print('probabilità che non cambiando scelta il giocatore vinca:', won_player_1/100000)  \n",
    "\n",
    "for i in range(0,100000):\n",
    "    if(second_choice[i]==lamborghini[i]):\n",
    "            won_player_2=won_player_2+1\n",
    "print('probabilità che cambiando scelta il giocarore vinca:',won_player_2/100000)\n",
    "\n"
   ]
  },
  {
   "cell_type": "code",
   "execution_count": 22,
   "id": "76af366e",
   "metadata": {},
   "outputs": [
    {
     "name": "stdout",
     "output_type": "stream",
     "text": [
      "probabilità di vincere non cambiando scelta:  0.001 \n",
      "\n",
      "probabilità di vincere cambiando scelta:  0.999 \n",
      "\n"
     ]
    }
   ],
   "source": [
    "print('probabilità di vincere non cambiando scelta: ', won_first_player/100000, '\\n')\n",
    "print('probabilità di vincere cambiando scelta: ', won_second_player/100000, '\\n')"
   ]
  },
  {
   "cell_type": "code",
   "execution_count": null,
   "id": "e32c1fa2",
   "metadata": {},
   "outputs": [],
   "source": []
  }
 ],
 "metadata": {
  "kernelspec": {
   "display_name": "Python 3 (ipykernel)",
   "language": "python",
   "name": "python3"
  },
  "language_info": {
   "codemirror_mode": {
    "name": "ipython",
    "version": 3
   },
   "file_extension": ".py",
   "mimetype": "text/x-python",
   "name": "python",
   "nbconvert_exporter": "python",
   "pygments_lexer": "ipython3",
   "version": "3.9.7"
  }
 },
 "nbformat": 4,
 "nbformat_minor": 5
}
